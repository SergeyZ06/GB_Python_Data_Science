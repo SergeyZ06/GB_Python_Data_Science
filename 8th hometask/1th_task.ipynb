{
 "cells": [
  {
   "cell_type": "markdown",
   "id": "bc40d050",
   "metadata": {},
   "source": [
    "#### Задание 1\n",
    "Импортируйте библиотеки pandas, numpy и matplotlib."
   ]
  },
  {
   "cell_type": "code",
   "execution_count": 1,
   "id": "f88eea72",
   "metadata": {},
   "outputs": [],
   "source": [
    "import pandas as pd\n",
    "import numpy as np\n",
    "import matplotlib.pyplot as plt"
   ]
  },
  {
   "cell_type": "markdown",
   "id": "aa80ce16",
   "metadata": {},
   "source": [
    "Загрузите \"Boston House Prices dataset\" из встроенных наборов данных библиотеки sklearn."
   ]
  },
  {
   "cell_type": "code",
   "execution_count": 2,
   "id": "55154d2e",
   "metadata": {},
   "outputs": [],
   "source": [
    "from sklearn.datasets import load_boston"
   ]
  },
  {
   "cell_type": "markdown",
   "id": "a00f4948",
   "metadata": {},
   "source": [
    "Создайте датафреймы X и y из этих данных."
   ]
  },
  {
   "cell_type": "code",
   "execution_count": 3,
   "id": "1efa9b2a",
   "metadata": {},
   "outputs": [],
   "source": [
    "boston = load_boston()"
   ]
  },
  {
   "cell_type": "code",
   "execution_count": 4,
   "id": "65fa8222",
   "metadata": {},
   "outputs": [],
   "source": [
    "x = pd.DataFrame(data = boston.data, columns = boston.feature_names)"
   ]
  },
  {
   "cell_type": "code",
   "execution_count": 5,
   "id": "e8b586ae",
   "metadata": {},
   "outputs": [],
   "source": [
    "y = pd.DataFrame(data = boston.target, columns = ['Price'])"
   ]
  },
  {
   "cell_type": "code",
   "execution_count": 6,
   "id": "762b5430",
   "metadata": {},
   "outputs": [
    {
     "name": "stdout",
     "output_type": "stream",
     "text": [
      "<class 'pandas.core.frame.DataFrame'>\n",
      "RangeIndex: 506 entries, 0 to 505\n",
      "Data columns (total 13 columns):\n",
      " #   Column   Non-Null Count  Dtype  \n",
      "---  ------   --------------  -----  \n",
      " 0   CRIM     506 non-null    float64\n",
      " 1   ZN       506 non-null    float64\n",
      " 2   INDUS    506 non-null    float64\n",
      " 3   CHAS     506 non-null    float64\n",
      " 4   NOX      506 non-null    float64\n",
      " 5   RM       506 non-null    float64\n",
      " 6   AGE      506 non-null    float64\n",
      " 7   DIS      506 non-null    float64\n",
      " 8   RAD      506 non-null    float64\n",
      " 9   TAX      506 non-null    float64\n",
      " 10  PTRATIO  506 non-null    float64\n",
      " 11  B        506 non-null    float64\n",
      " 12  LSTAT    506 non-null    float64\n",
      "dtypes: float64(13)\n",
      "memory usage: 51.5 KB\n"
     ]
    }
   ],
   "source": [
    "x.info()"
   ]
  },
  {
   "cell_type": "code",
   "execution_count": 7,
   "id": "dfb0cef6",
   "metadata": {},
   "outputs": [
    {
     "name": "stdout",
     "output_type": "stream",
     "text": [
      "<class 'pandas.core.frame.DataFrame'>\n",
      "RangeIndex: 506 entries, 0 to 505\n",
      "Data columns (total 1 columns):\n",
      " #   Column  Non-Null Count  Dtype  \n",
      "---  ------  --------------  -----  \n",
      " 0   Price   506 non-null    float64\n",
      "dtypes: float64(1)\n",
      "memory usage: 4.1 KB\n"
     ]
    }
   ],
   "source": [
    "y.info()"
   ]
  },
  {
   "cell_type": "markdown",
   "id": "2bcb02b5",
   "metadata": {},
   "source": [
    "Разбейте эти датафреймы на тренировочные (X_train, y_train) и тестовые (X_test, y_test) с помощью функции train_test_split так, чтобы размер тестовой выборки составлял 20% от всех данных, при этом аргумент random_state должен быть равен 42."
   ]
  },
  {
   "cell_type": "code",
   "execution_count": 8,
   "id": "bf4700bd",
   "metadata": {},
   "outputs": [],
   "source": [
    "from sklearn.model_selection import train_test_split"
   ]
  },
  {
   "cell_type": "code",
   "execution_count": 9,
   "id": "104bc209",
   "metadata": {},
   "outputs": [],
   "source": [
    "x_train, x_test, y_train, y_test = train_test_split(x, y, random_state = 42)"
   ]
  },
  {
   "cell_type": "code",
   "execution_count": 10,
   "id": "f2f5e31d",
   "metadata": {},
   "outputs": [
    {
     "data": {
      "text/plain": [
       "pandas.core.frame.DataFrame"
      ]
     },
     "execution_count": 10,
     "metadata": {},
     "output_type": "execute_result"
    }
   ],
   "source": [
    "type(x_train)"
   ]
  },
  {
   "cell_type": "markdown",
   "id": "95a739b9",
   "metadata": {},
   "source": [
    "Масштабируйте данные с помощью StandardScaler."
   ]
  },
  {
   "cell_type": "code",
   "execution_count": 11,
   "id": "c03038e3",
   "metadata": {},
   "outputs": [],
   "source": [
    "from sklearn.preprocessing import StandardScaler"
   ]
  },
  {
   "cell_type": "code",
   "execution_count": 12,
   "id": "2870cfee",
   "metadata": {},
   "outputs": [],
   "source": [
    "scaler = StandardScaler()"
   ]
  },
  {
   "cell_type": "code",
   "execution_count": 13,
   "id": "c4e9f332",
   "metadata": {},
   "outputs": [],
   "source": [
    "x_train_scaled = scaler.fit_transform(x_train)"
   ]
  },
  {
   "cell_type": "code",
   "execution_count": 14,
   "id": "fd580711",
   "metadata": {},
   "outputs": [],
   "source": [
    "x_test_scaled = scaler.transform(x_test)"
   ]
  },
  {
   "cell_type": "code",
   "execution_count": 15,
   "id": "7e3068b6",
   "metadata": {},
   "outputs": [],
   "source": [
    "x_train_scaled = pd.DataFrame(data = x_train_scaled, columns = x_train.columns)"
   ]
  },
  {
   "cell_type": "code",
   "execution_count": 16,
   "id": "f17485e7",
   "metadata": {},
   "outputs": [],
   "source": [
    "x_test_scaled = pd.DataFrame(data = x_test_scaled, columns = x_test.columns)"
   ]
  },
  {
   "cell_type": "code",
   "execution_count": 17,
   "id": "5a60d295",
   "metadata": {},
   "outputs": [
    {
     "data": {
      "text/html": [
       "<div>\n",
       "<style scoped>\n",
       "    .dataframe tbody tr th:only-of-type {\n",
       "        vertical-align: middle;\n",
       "    }\n",
       "\n",
       "    .dataframe tbody tr th {\n",
       "        vertical-align: top;\n",
       "    }\n",
       "\n",
       "    .dataframe thead th {\n",
       "        text-align: right;\n",
       "    }\n",
       "</style>\n",
       "<table border=\"1\" class=\"dataframe\">\n",
       "  <thead>\n",
       "    <tr style=\"text-align: right;\">\n",
       "      <th></th>\n",
       "      <th>CRIM</th>\n",
       "      <th>ZN</th>\n",
       "      <th>INDUS</th>\n",
       "      <th>CHAS</th>\n",
       "      <th>NOX</th>\n",
       "      <th>RM</th>\n",
       "      <th>AGE</th>\n",
       "      <th>DIS</th>\n",
       "      <th>RAD</th>\n",
       "      <th>TAX</th>\n",
       "      <th>PTRATIO</th>\n",
       "      <th>B</th>\n",
       "      <th>LSTAT</th>\n",
       "    </tr>\n",
       "  </thead>\n",
       "  <tbody>\n",
       "    <tr>\n",
       "      <th>count</th>\n",
       "      <td>3.790000e+02</td>\n",
       "      <td>3.790000e+02</td>\n",
       "      <td>3.790000e+02</td>\n",
       "      <td>3.790000e+02</td>\n",
       "      <td>3.790000e+02</td>\n",
       "      <td>3.790000e+02</td>\n",
       "      <td>3.790000e+02</td>\n",
       "      <td>3.790000e+02</td>\n",
       "      <td>3.790000e+02</td>\n",
       "      <td>3.790000e+02</td>\n",
       "      <td>3.790000e+02</td>\n",
       "      <td>3.790000e+02</td>\n",
       "      <td>3.790000e+02</td>\n",
       "    </tr>\n",
       "    <tr>\n",
       "      <th>mean</th>\n",
       "      <td>-2.905914e-16</td>\n",
       "      <td>-4.452609e-17</td>\n",
       "      <td>3.658170e-15</td>\n",
       "      <td>4.218262e-17</td>\n",
       "      <td>-4.248727e-15</td>\n",
       "      <td>-1.295358e-15</td>\n",
       "      <td>-6.093045e-16</td>\n",
       "      <td>-1.235013e-15</td>\n",
       "      <td>1.277196e-16</td>\n",
       "      <td>6.093045e-17</td>\n",
       "      <td>2.122254e-14</td>\n",
       "      <td>7.133549e-15</td>\n",
       "      <td>4.452609e-17</td>\n",
       "    </tr>\n",
       "    <tr>\n",
       "      <th>std</th>\n",
       "      <td>1.001322e+00</td>\n",
       "      <td>1.001322e+00</td>\n",
       "      <td>1.001322e+00</td>\n",
       "      <td>1.001322e+00</td>\n",
       "      <td>1.001322e+00</td>\n",
       "      <td>1.001322e+00</td>\n",
       "      <td>1.001322e+00</td>\n",
       "      <td>1.001322e+00</td>\n",
       "      <td>1.001322e+00</td>\n",
       "      <td>1.001322e+00</td>\n",
       "      <td>1.001322e+00</td>\n",
       "      <td>1.001322e+00</td>\n",
       "      <td>1.001322e+00</td>\n",
       "    </tr>\n",
       "    <tr>\n",
       "      <th>min</th>\n",
       "      <td>-4.166677e-01</td>\n",
       "      <td>-5.028120e-01</td>\n",
       "      <td>-1.427082e+00</td>\n",
       "      <td>-2.878492e-01</td>\n",
       "      <td>-1.457007e+00</td>\n",
       "      <td>-3.421464e+00</td>\n",
       "      <td>-2.394486e+00</td>\n",
       "      <td>-1.248358e+00</td>\n",
       "      <td>-9.734004e-01</td>\n",
       "      <td>-1.316388e+00</td>\n",
       "      <td>-2.505059e+00</td>\n",
       "      <td>-4.101397e+00</td>\n",
       "      <td>-1.510635e+00</td>\n",
       "    </tr>\n",
       "    <tr>\n",
       "      <th>25%</th>\n",
       "      <td>-4.078913e-01</td>\n",
       "      <td>-5.028120e-01</td>\n",
       "      <td>-8.625839e-01</td>\n",
       "      <td>-2.878492e-01</td>\n",
       "      <td>-8.853889e-01</td>\n",
       "      <td>-6.028016e-01</td>\n",
       "      <td>-8.276134e-01</td>\n",
       "      <td>-8.000780e-01</td>\n",
       "      <td>-6.241558e-01</td>\n",
       "      <td>-7.616401e-01</td>\n",
       "      <td>-7.359034e-01</td>\n",
       "      <td>1.987826e-01</td>\n",
       "      <td>-7.912717e-01</td>\n",
       "    </tr>\n",
       "    <tr>\n",
       "      <th>50%</th>\n",
       "      <td>-3.853152e-01</td>\n",
       "      <td>-5.028120e-01</td>\n",
       "      <td>-2.059228e-01</td>\n",
       "      <td>-2.878492e-01</td>\n",
       "      <td>-1.708666e-01</td>\n",
       "      <td>-1.355740e-01</td>\n",
       "      <td>3.235952e-01</td>\n",
       "      <td>-3.087147e-01</td>\n",
       "      <td>-5.077409e-01</td>\n",
       "      <td>-4.541171e-01</td>\n",
       "      <td>1.486744e-01</td>\n",
       "      <td>3.727030e-01</td>\n",
       "      <td>-1.811785e-01</td>\n",
       "    </tr>\n",
       "    <tr>\n",
       "      <th>75%</th>\n",
       "      <td>-2.725877e-02</td>\n",
       "      <td>3.643814e-01</td>\n",
       "      <td>1.005156e+00</td>\n",
       "      <td>-2.878492e-01</td>\n",
       "      <td>6.781542e-01</td>\n",
       "      <td>4.741860e-01</td>\n",
       "      <td>8.928741e-01</td>\n",
       "      <td>7.050332e-01</td>\n",
       "      <td>7.728228e-01</td>\n",
       "      <td>1.571917e+00</td>\n",
       "      <td>8.563367e-01</td>\n",
       "      <td>4.232772e-01</td>\n",
       "      <td>5.437887e-01</td>\n",
       "    </tr>\n",
       "    <tr>\n",
       "      <th>max</th>\n",
       "      <td>1.029838e+01</td>\n",
       "      <td>3.833155e+00</td>\n",
       "      <td>2.393361e+00</td>\n",
       "      <td>3.474042e+00</td>\n",
       "      <td>2.628380e+00</td>\n",
       "      <td>3.415913e+00</td>\n",
       "      <td>1.115164e+00</td>\n",
       "      <td>3.963829e+00</td>\n",
       "      <td>1.704142e+00</td>\n",
       "      <td>1.843261e+00</td>\n",
       "      <td>1.652457e+00</td>\n",
       "      <td>4.363212e-01</td>\n",
       "      <td>3.566236e+00</td>\n",
       "    </tr>\n",
       "  </tbody>\n",
       "</table>\n",
       "</div>"
      ],
      "text/plain": [
       "               CRIM            ZN         INDUS          CHAS           NOX  \\\n",
       "count  3.790000e+02  3.790000e+02  3.790000e+02  3.790000e+02  3.790000e+02   \n",
       "mean  -2.905914e-16 -4.452609e-17  3.658170e-15  4.218262e-17 -4.248727e-15   \n",
       "std    1.001322e+00  1.001322e+00  1.001322e+00  1.001322e+00  1.001322e+00   \n",
       "min   -4.166677e-01 -5.028120e-01 -1.427082e+00 -2.878492e-01 -1.457007e+00   \n",
       "25%   -4.078913e-01 -5.028120e-01 -8.625839e-01 -2.878492e-01 -8.853889e-01   \n",
       "50%   -3.853152e-01 -5.028120e-01 -2.059228e-01 -2.878492e-01 -1.708666e-01   \n",
       "75%   -2.725877e-02  3.643814e-01  1.005156e+00 -2.878492e-01  6.781542e-01   \n",
       "max    1.029838e+01  3.833155e+00  2.393361e+00  3.474042e+00  2.628380e+00   \n",
       "\n",
       "                 RM           AGE           DIS           RAD           TAX  \\\n",
       "count  3.790000e+02  3.790000e+02  3.790000e+02  3.790000e+02  3.790000e+02   \n",
       "mean  -1.295358e-15 -6.093045e-16 -1.235013e-15  1.277196e-16  6.093045e-17   \n",
       "std    1.001322e+00  1.001322e+00  1.001322e+00  1.001322e+00  1.001322e+00   \n",
       "min   -3.421464e+00 -2.394486e+00 -1.248358e+00 -9.734004e-01 -1.316388e+00   \n",
       "25%   -6.028016e-01 -8.276134e-01 -8.000780e-01 -6.241558e-01 -7.616401e-01   \n",
       "50%   -1.355740e-01  3.235952e-01 -3.087147e-01 -5.077409e-01 -4.541171e-01   \n",
       "75%    4.741860e-01  8.928741e-01  7.050332e-01  7.728228e-01  1.571917e+00   \n",
       "max    3.415913e+00  1.115164e+00  3.963829e+00  1.704142e+00  1.843261e+00   \n",
       "\n",
       "            PTRATIO             B         LSTAT  \n",
       "count  3.790000e+02  3.790000e+02  3.790000e+02  \n",
       "mean   2.122254e-14  7.133549e-15  4.452609e-17  \n",
       "std    1.001322e+00  1.001322e+00  1.001322e+00  \n",
       "min   -2.505059e+00 -4.101397e+00 -1.510635e+00  \n",
       "25%   -7.359034e-01  1.987826e-01 -7.912717e-01  \n",
       "50%    1.486744e-01  3.727030e-01 -1.811785e-01  \n",
       "75%    8.563367e-01  4.232772e-01  5.437887e-01  \n",
       "max    1.652457e+00  4.363212e-01  3.566236e+00  "
      ]
     },
     "execution_count": 17,
     "metadata": {},
     "output_type": "execute_result"
    }
   ],
   "source": [
    "x_train_scaled.describe()"
   ]
  },
  {
   "cell_type": "code",
   "execution_count": 18,
   "id": "a459661c",
   "metadata": {},
   "outputs": [
    {
     "data": {
      "text/html": [
       "<div>\n",
       "<style scoped>\n",
       "    .dataframe tbody tr th:only-of-type {\n",
       "        vertical-align: middle;\n",
       "    }\n",
       "\n",
       "    .dataframe tbody tr th {\n",
       "        vertical-align: top;\n",
       "    }\n",
       "\n",
       "    .dataframe thead th {\n",
       "        text-align: right;\n",
       "    }\n",
       "</style>\n",
       "<table border=\"1\" class=\"dataframe\">\n",
       "  <thead>\n",
       "    <tr style=\"text-align: right;\">\n",
       "      <th></th>\n",
       "      <th>CRIM</th>\n",
       "      <th>ZN</th>\n",
       "      <th>INDUS</th>\n",
       "      <th>CHAS</th>\n",
       "      <th>NOX</th>\n",
       "      <th>RM</th>\n",
       "      <th>AGE</th>\n",
       "      <th>DIS</th>\n",
       "      <th>RAD</th>\n",
       "      <th>TAX</th>\n",
       "      <th>PTRATIO</th>\n",
       "      <th>B</th>\n",
       "      <th>LSTAT</th>\n",
       "    </tr>\n",
       "  </thead>\n",
       "  <tbody>\n",
       "    <tr>\n",
       "      <th>count</th>\n",
       "      <td>127.000000</td>\n",
       "      <td>127.000000</td>\n",
       "      <td>127.000000</td>\n",
       "      <td>127.000000</td>\n",
       "      <td>127.000000</td>\n",
       "      <td>127.000000</td>\n",
       "      <td>127.000000</td>\n",
       "      <td>127.000000</td>\n",
       "      <td>127.000000</td>\n",
       "      <td>127.000000</td>\n",
       "      <td>127.000000</td>\n",
       "      <td>127.000000</td>\n",
       "      <td>127.000000</td>\n",
       "    </tr>\n",
       "    <tr>\n",
       "      <th>mean</th>\n",
       "      <td>0.069516</td>\n",
       "      <td>-0.040195</td>\n",
       "      <td>0.009642</td>\n",
       "      <td>-0.110122</td>\n",
       "      <td>-0.121621</td>\n",
       "      <td>-0.215307</td>\n",
       "      <td>-0.082421</td>\n",
       "      <td>0.059679</td>\n",
       "      <td>0.087167</td>\n",
       "      <td>0.070291</td>\n",
       "      <td>0.337779</td>\n",
       "      <td>-0.095421</td>\n",
       "      <td>0.078011</td>\n",
       "    </tr>\n",
       "    <tr>\n",
       "      <th>std</th>\n",
       "      <td>1.135670</td>\n",
       "      <td>1.043790</td>\n",
       "      <td>0.950633</td>\n",
       "      <td>0.801286</td>\n",
       "      <td>0.885319</td>\n",
       "      <td>0.884870</td>\n",
       "      <td>1.065750</td>\n",
       "      <td>0.990768</td>\n",
       "      <td>1.050935</td>\n",
       "      <td>1.061901</td>\n",
       "      <td>0.762017</td>\n",
       "      <td>1.165619</td>\n",
       "      <td>0.999279</td>\n",
       "    </tr>\n",
       "    <tr>\n",
       "      <th>min</th>\n",
       "      <td>-0.416998</td>\n",
       "      <td>-0.502812</td>\n",
       "      <td>-1.535086</td>\n",
       "      <td>-0.287849</td>\n",
       "      <td>-1.398164</td>\n",
       "      <td>-3.841413</td>\n",
       "      <td>-2.275208</td>\n",
       "      <td>-1.229636</td>\n",
       "      <td>-0.973400</td>\n",
       "      <td>-1.310358</td>\n",
       "      <td>-2.328144</td>\n",
       "      <td>-4.076225</td>\n",
       "      <td>-1.349531</td>\n",
       "    </tr>\n",
       "    <tr>\n",
       "      <th>25%</th>\n",
       "      <td>-0.407744</td>\n",
       "      <td>-0.502812</td>\n",
       "      <td>-0.757461</td>\n",
       "      <td>-0.287849</td>\n",
       "      <td>-0.927420</td>\n",
       "      <td>-0.628527</td>\n",
       "      <td>-1.131229</td>\n",
       "      <td>-0.709597</td>\n",
       "      <td>-0.624156</td>\n",
       "      <td>-0.722446</td>\n",
       "      <td>-0.006127</td>\n",
       "      <td>0.154673</td>\n",
       "      <td>-0.697411</td>\n",
       "    </tr>\n",
       "    <tr>\n",
       "      <th>50%</th>\n",
       "      <td>-0.394226</td>\n",
       "      <td>-0.502812</td>\n",
       "      <td>-0.205923</td>\n",
       "      <td>-0.287849</td>\n",
       "      <td>-0.288553</td>\n",
       "      <td>-0.217617</td>\n",
       "      <td>0.186245</td>\n",
       "      <td>-0.098841</td>\n",
       "      <td>-0.507741</td>\n",
       "      <td>-0.454117</td>\n",
       "      <td>0.414048</td>\n",
       "      <td>0.380140</td>\n",
       "      <td>-0.108332</td>\n",
       "    </tr>\n",
       "    <tr>\n",
       "      <th>75%</th>\n",
       "      <td>0.122898</td>\n",
       "      <td>-0.502812</td>\n",
       "      <td>1.005156</td>\n",
       "      <td>-0.287849</td>\n",
       "      <td>0.446985</td>\n",
       "      <td>0.212066</td>\n",
       "      <td>0.925404</td>\n",
       "      <td>0.637540</td>\n",
       "      <td>1.704142</td>\n",
       "      <td>1.571917</td>\n",
       "      <td>0.856337</td>\n",
       "      <td>0.436321</td>\n",
       "      <td>0.733611</td>\n",
       "    </tr>\n",
       "    <tr>\n",
       "      <th>max</th>\n",
       "      <td>8.438563</td>\n",
       "      <td>3.616356</td>\n",
       "      <td>2.393361</td>\n",
       "      <td>3.474042</td>\n",
       "      <td>2.628380</td>\n",
       "      <td>2.378556</td>\n",
       "      <td>1.115164</td>\n",
       "      <td>3.292594</td>\n",
       "      <td>1.704142</td>\n",
       "      <td>1.843261</td>\n",
       "      <td>1.652457</td>\n",
       "      <td>0.436321</td>\n",
       "      <td>3.427547</td>\n",
       "    </tr>\n",
       "  </tbody>\n",
       "</table>\n",
       "</div>"
      ],
      "text/plain": [
       "             CRIM          ZN       INDUS        CHAS         NOX          RM  \\\n",
       "count  127.000000  127.000000  127.000000  127.000000  127.000000  127.000000   \n",
       "mean     0.069516   -0.040195    0.009642   -0.110122   -0.121621   -0.215307   \n",
       "std      1.135670    1.043790    0.950633    0.801286    0.885319    0.884870   \n",
       "min     -0.416998   -0.502812   -1.535086   -0.287849   -1.398164   -3.841413   \n",
       "25%     -0.407744   -0.502812   -0.757461   -0.287849   -0.927420   -0.628527   \n",
       "50%     -0.394226   -0.502812   -0.205923   -0.287849   -0.288553   -0.217617   \n",
       "75%      0.122898   -0.502812    1.005156   -0.287849    0.446985    0.212066   \n",
       "max      8.438563    3.616356    2.393361    3.474042    2.628380    2.378556   \n",
       "\n",
       "              AGE         DIS         RAD         TAX     PTRATIO           B  \\\n",
       "count  127.000000  127.000000  127.000000  127.000000  127.000000  127.000000   \n",
       "mean    -0.082421    0.059679    0.087167    0.070291    0.337779   -0.095421   \n",
       "std      1.065750    0.990768    1.050935    1.061901    0.762017    1.165619   \n",
       "min     -2.275208   -1.229636   -0.973400   -1.310358   -2.328144   -4.076225   \n",
       "25%     -1.131229   -0.709597   -0.624156   -0.722446   -0.006127    0.154673   \n",
       "50%      0.186245   -0.098841   -0.507741   -0.454117    0.414048    0.380140   \n",
       "75%      0.925404    0.637540    1.704142    1.571917    0.856337    0.436321   \n",
       "max      1.115164    3.292594    1.704142    1.843261    1.652457    0.436321   \n",
       "\n",
       "            LSTAT  \n",
       "count  127.000000  \n",
       "mean     0.078011  \n",
       "std      0.999279  \n",
       "min     -1.349531  \n",
       "25%     -0.697411  \n",
       "50%     -0.108332  \n",
       "75%      0.733611  \n",
       "max      3.427547  "
      ]
     },
     "execution_count": 18,
     "metadata": {},
     "output_type": "execute_result"
    }
   ],
   "source": [
    "x_test_scaled.describe()"
   ]
  },
  {
   "cell_type": "markdown",
   "id": "d9bf1528",
   "metadata": {},
   "source": [
    "Постройте модель TSNE на тренировочный данных с параметрами:\n",
    "\n",
    "n_components=2, learning_rate=250, random_state=42."
   ]
  },
  {
   "cell_type": "code",
   "execution_count": 19,
   "id": "d474ac79",
   "metadata": {},
   "outputs": [],
   "source": [
    "from sklearn.manifold import TSNE"
   ]
  },
  {
   "cell_type": "code",
   "execution_count": 20,
   "id": "a846c663",
   "metadata": {},
   "outputs": [],
   "source": [
    "tsne = TSNE(n_components = 2, learning_rate = 250, random_state = 42)"
   ]
  },
  {
   "cell_type": "code",
   "execution_count": 21,
   "id": "48e9054b",
   "metadata": {},
   "outputs": [],
   "source": [
    "x_train_tsne = tsne.fit_transform(x_train_scaled)"
   ]
  },
  {
   "cell_type": "code",
   "execution_count": 22,
   "id": "fdb645c3",
   "metadata": {},
   "outputs": [
    {
     "data": {
      "text/plain": [
       "(379, 2)"
      ]
     },
     "execution_count": 22,
     "metadata": {},
     "output_type": "execute_result"
    }
   ],
   "source": [
    "x_train_tsne.shape"
   ]
  },
  {
   "cell_type": "markdown",
   "id": "80b94328",
   "metadata": {},
   "source": [
    "Постройте диаграмму рассеяния на этих данных."
   ]
  },
  {
   "cell_type": "code",
   "execution_count": 23,
   "id": "26e5dd16",
   "metadata": {},
   "outputs": [
    {
     "data": {
      "text/plain": [
       "Text(0.5, 1.0, 'TSNE Boston')"
      ]
     },
     "execution_count": 23,
     "metadata": {},
     "output_type": "execute_result"
    },
    {
     "data": {
      "image/png": "[encoded data removed]",
      "text/plain": [
       "<Figure size 432x288 with 1 Axes>"
      ]
     },
     "metadata": {
      "needs_background": "light"
     },
     "output_type": "display_data"
    }
   ],
   "source": [
    "plt.scatter(x_train_tsne[:, 0], x_train_tsne[:, 1])\n",
    "plt.title('TSNE Boston')"
   ]
  },
  {
   "cell_type": "markdown",
   "id": "8672816c",
   "metadata": {},
   "source": [
    "Сохранение результатов для использования в следующих заданиях"
   ]
  },
  {
   "cell_type": "code",
   "execution_count": 24,
   "id": "bce86189",
   "metadata": {},
   "outputs": [],
   "source": [
    "x_train.to_pickle('data/x_train.pkl')\n",
    "y_train.to_pickle('data/y_train.pkl')\n",
    "\n",
    "x_test.to_pickle('data/x_test.pkl')\n",
    "y_test.to_pickle('data/y_test.pkl')\n",
    "\n",
    "x_train_scaled.to_pickle('data/x_train_scaled.pkl')\n",
    "x_test_scaled.to_pickle('data/x_test_scaled.pkl')"
   ]
  },
  {
   "cell_type": "code",
   "execution_count": 25,
   "id": "7c3e872d",
   "metadata": {},
   "outputs": [],
   "source": [
    "x_train_tsne = pd.DataFrame(data = x_train_tsne, columns = ['x', 'y'])\n",
    "\n",
    "x_train_tsne.to_pickle('data/x_train_tsne.pkl')"
   ]
  },
  {
   "cell_type": "code",
   "execution_count": null,
   "id": "9104fb06",
   "metadata": {},
   "outputs": [],
   "source": []
  }
 ],
 "metadata": {
  "kernelspec": {
   "display_name": "Python 3",
   "language": "python",
   "name": "python3"
  },
  "language_info": {
   "codemirror_mode": {
    "name": "ipython",
    "version": 3
   },
   "file_extension": ".py",
   "mimetype": "text/x-python",
   "name": "python",
   "nbconvert_exporter": "python",
   "pygments_lexer": "ipython3",
   "version": "3.9.1"
  }
 },
 "nbformat": 4,
 "nbformat_minor": 5
}
