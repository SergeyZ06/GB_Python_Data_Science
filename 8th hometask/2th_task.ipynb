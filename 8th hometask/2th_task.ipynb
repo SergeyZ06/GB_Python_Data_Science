{
 "cells": [
  {
   "cell_type": "markdown",
   "id": "4da22c53",
   "metadata": {},
   "source": [
    "#### Задание 2"
   ]
  },
  {
   "cell_type": "code",
   "execution_count": 1,
   "id": "657ca3fe",
   "metadata": {},
   "outputs": [],
   "source": [
    "import pandas as pd\n",
    "import numpy as np\n",
    "import matplotlib.pyplot as plt"
   ]
  },
  {
   "cell_type": "markdown",
   "id": "c834aad0",
   "metadata": {},
   "source": [
    "С помощью KMeans разбейте данные из тренировочного набора на 3 кластера, используйте все признаки из датафрейма X_train. Параметр max_iter должен быть равен 100, random_state сделайте равным 42."
   ]
  },
  {
   "cell_type": "code",
   "execution_count": 2,
   "id": "200ed4e7",
   "metadata": {},
   "outputs": [],
   "source": [
    "x_train_scaled = pd.read_pickle('data/x_train_scaled.pkl')\n",
    "x_train_tsne = pd.read_pickle('data/x_train_tsne.pkl')"
   ]
  },
  {
   "cell_type": "code",
   "execution_count": 3,
   "id": "ef44ce42",
   "metadata": {},
   "outputs": [],
   "source": [
    "from sklearn.cluster import KMeans"
   ]
  },
  {
   "cell_type": "code",
   "execution_count": 4,
   "id": "fa77c6ca",
   "metadata": {},
   "outputs": [],
   "source": [
    "kmeans = KMeans(n_clusters = 3, max_iter = 100, random_state = 42)"
   ]
  },
  {
   "cell_type": "code",
   "execution_count": 5,
   "id": "48bd94cf",
   "metadata": {},
   "outputs": [],
   "source": [
    "labels_train = kmeans.fit_predict(x_train_scaled)"
   ]
  },
  {
   "cell_type": "code",
   "execution_count": 6,
   "id": "3732aa64",
   "metadata": {},
   "outputs": [
    {
     "data": {
      "text/plain": [
       "(379,)"
      ]
     },
     "execution_count": 6,
     "metadata": {},
     "output_type": "execute_result"
    }
   ],
   "source": [
    "labels_train.shape"
   ]
  },
  {
   "cell_type": "markdown",
   "id": "5d7fc67b",
   "metadata": {},
   "source": [
    "Постройте еще раз диаграмму рассеяния на данных, полученных с помощью TSNE, и раскрасьте точки из разных кластеров разными цветами."
   ]
  },
  {
   "cell_type": "code",
   "execution_count": 7,
   "id": "9be9daa0",
   "metadata": {},
   "outputs": [
    {
     "data": {
      "text/plain": [
       "<matplotlib.collections.PathCollection at 0x251b0053040>"
      ]
     },
     "execution_count": 7,
     "metadata": {},
     "output_type": "execute_result"
    },
    {
     "data": {
      "image/png": "[encoded data removed]",
      "text/plain": [
       "<Figure size 432x288 with 1 Axes>"
      ]
     },
     "metadata": {
      "needs_background": "light"
     },
     "output_type": "display_data"
    }
   ],
   "source": [
    "plt.scatter(x_train_tsne['x'], x_train_tsne['y'], c = labels_train)"
   ]
  },
  {
   "cell_type": "markdown",
   "id": "dbaccaca",
   "metadata": {},
   "source": [
    "Вычислите средние значения price и CRIM в разных кластерах."
   ]
  },
  {
   "cell_type": "code",
   "execution_count": 8,
   "id": "b5add642",
   "metadata": {},
   "outputs": [],
   "source": [
    "x_train = pd.read_pickle('data/x_train.pkl')\n",
    "y_train = pd.read_pickle('data/y_train.pkl')"
   ]
  },
  {
   "cell_type": "code",
   "execution_count": 9,
   "id": "70ff21bd",
   "metadata": {},
   "outputs": [
    {
     "data": {
      "text/plain": [
       "2    177\n",
       "1    122\n",
       "0     80\n",
       "dtype: int64"
      ]
     },
     "execution_count": 9,
     "metadata": {},
     "output_type": "execute_result"
    }
   ],
   "source": [
    "pd.value_counts(labels_train)"
   ]
  },
  {
   "cell_type": "code",
   "execution_count": 10,
   "id": "c2c726fa",
   "metadata": {},
   "outputs": [
    {
     "name": "stdout",
     "output_type": "stream",
     "text": [
      "Cluster #2:\tmean_price = 25.107,\tmean_CRIM = 0.431.\n",
      "Cluster #1:\tmean_price = 16.302,\tmean_CRIM = 10.102.\n",
      "Cluster #0:\tmean_price = 28.115,\tmean_CRIM = 0.074.\n"
     ]
    }
   ],
   "source": [
    "for i in list(pd.value_counts(labels_train).index):\n",
    "    price = np.round(y_train.loc[labels_train == i, ['Price']].mean()[0], 3)\n",
    "    crim = np.round(x_train.loc[labels_train == i, ['CRIM']].mean()[0], 3)\n",
    "    print(f'Cluster #{i}:\\tmean_price = {price},\\tmean_CRIM = {crim}.')"
   ]
  },
  {
   "cell_type": "markdown",
   "id": "c88f5835",
   "metadata": {},
   "source": [
    "Сохранение результатов для использования в следующих заданиях"
   ]
  },
  {
   "cell_type": "code",
   "execution_count": 11,
   "id": "578a2041",
   "metadata": {},
   "outputs": [],
   "source": [
    "import pickle"
   ]
  },
  {
   "cell_type": "code",
   "execution_count": 12,
   "id": "8e12cc30",
   "metadata": {},
   "outputs": [],
   "source": [
    "with open('models/kmeans.pkl', 'wb') as file_kmeans:\n",
    "    pickle.dump(obj = kmeans, file = file_kmeans)"
   ]
  },
  {
   "cell_type": "code",
   "execution_count": null,
   "id": "5db1941e",
   "metadata": {},
   "outputs": [],
   "source": []
  }
 ],
 "metadata": {
  "kernelspec": {
   "display_name": "Python 3",
   "language": "python",
   "name": "python3"
  },
  "language_info": {
   "codemirror_mode": {
    "name": "ipython",
    "version": 3
   },
   "file_extension": ".py",
   "mimetype": "text/x-python",
   "name": "python",
   "nbconvert_exporter": "python",
   "pygments_lexer": "ipython3",
   "version": "3.9.1"
  }
 },
 "nbformat": 4,
 "nbformat_minor": 5
}
